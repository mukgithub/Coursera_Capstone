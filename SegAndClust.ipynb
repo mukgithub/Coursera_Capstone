{
    "nbformat_minor": 1, 
    "cells": [
        {
            "source": "### Import all required libraries - numpy, pandas, json, requests, etc.", 
            "cell_type": "markdown", 
            "metadata": {}
        }, 
        {
            "execution_count": null, 
            "cell_type": "code", 
            "metadata": {}, 
            "outputs": [
                {
                    "output_type": "stream", 
                    "name": "stdout", 
                    "text": "Fetching package metadata .............\nSolving package specifications: "
                }
            ], 
            "source": "import numpy as np \nimport pandas as pd\npd.set_option('display.max_columns', None)\npd.set_option('display.max_rows', None)\n\nimport json\n\n!conda install -c conda-forge geopy --yes\nfrom geopy.geocoders import Nominatim\n\nimport requests\nfrom pandas.io.json import json_normalize\n\nimport matplotlib.cm as cm\nimport matplotlib.colors as colors\n\nfrom sklearn.cluster import KMeans\n\n!conda install -c conda-forge folium=0.5.0 --yes\nimport folium\n\nprint('Libraries imported.')"
        }, 
        {
            "source": "### Scraping the wiki page using BeautifulSoup - import BeautifulSoup and install lxml", 
            "cell_type": "markdown", 
            "metadata": {}
        }, 
        {
            "execution_count": null, 
            "cell_type": "code", 
            "metadata": {}, 
            "outputs": [], 
            "source": "from bs4 import BeautifulSoup\n!conda install -y lxml"
        }, 
        {
            "source": "### Get the url and print after scraping using BeautifulSoup", 
            "cell_type": "markdown", 
            "metadata": {}
        }, 
        {
            "execution_count": null, 
            "cell_type": "code", 
            "metadata": {}, 
            "outputs": [], 
            "source": "webURL = requests.get('https://en.wikipedia.org/wiki/List_of_postal_codes_of_Canada:_M').text\nsoup = BeautifulSoup(webURL,'lxml')\n#print(soup.prettify()) # tested and then commented only to not show entire o/p to maintain readability"
        }, 
        {
            "source": "### Find the table wikitable sortable", 
            "cell_type": "markdown", 
            "metadata": {}
        }, 
        {
            "execution_count": null, 
            "cell_type": "code", 
            "metadata": {}, 
            "outputs": [], 
            "source": "postCodeTable = soup.find('table',{'class':'wikitable sortable'})\n#postCodeTable"
        }, 
        {
            "source": "### using findall and a for loop run through the table populating the details using append based on the required conditions asked in the question", 
            "cell_type": "markdown", 
            "metadata": {}
        }, 
        {
            "execution_count": null, 
            "cell_type": "code", 
            "metadata": {}, 
            "outputs": [], 
            "source": "postalCode = []\nborough = []\nneighborhood = []\n\nfor row in postCodeTable.find_all('tr')[1:]:  # skipping first row for header\n    boroughCell = row.find_all('td')[1] # processing boroughs - second coloumn first to skip non assigned ones \n    if (boroughCell.text.strip() != 'Not assigned'):\n        borough.append(boroughCell.text.strip())\n        postCell = row.find_all('td')[0]  #  first coloumn\n        postalCode.append(postCell.text.strip())\n        neighborhoodCell = row.find_all('td')[2] #third coloumn\n        if (neighborhoodCell.text.strip() == 'Not assigned'):\n            neighborhood.append(boroughCell.text.strip())\n        else:\n            neighborhood.append(neighborhoodCell.text.strip())"
        }, 
        {
            "source": "### Load into a pandas df and using groupby and join get the final required output", 
            "cell_type": "markdown", 
            "metadata": {}
        }, 
        {
            "execution_count": null, 
            "cell_type": "code", 
            "metadata": {}, 
            "outputs": [], 
            "source": "df = pd.DataFrame()\ndf['PostalCode'] = postalCode\ndf['Borough'] = borough\ndf['Neighborhood'] = neighborhood\ndf = df.groupby(['PostalCode', 'Borough'])['Neighborhood'].apply(', '.join).reset_index()\ndf"
        }, 
        {
            "source": "### df.shape to print number of rows of df including header", 
            "cell_type": "markdown", 
            "metadata": {}
        }, 
        {
            "execution_count": null, 
            "cell_type": "code", 
            "metadata": {}, 
            "outputs": [], 
            "source": "df.shape[0]"
        }
    ], 
    "metadata": {
        "kernelspec": {
            "display_name": "Python 3.5", 
            "name": "python3", 
            "language": "python"
        }, 
        "language_info": {
            "mimetype": "text/x-python", 
            "nbconvert_exporter": "python", 
            "version": "3.5.5", 
            "name": "python", 
            "file_extension": ".py", 
            "pygments_lexer": "ipython3", 
            "codemirror_mode": {
                "version": 3, 
                "name": "ipython"
            }
        }
    }, 
    "nbformat": 4
}